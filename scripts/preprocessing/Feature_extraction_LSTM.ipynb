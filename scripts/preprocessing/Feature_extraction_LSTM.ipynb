{
  "nbformat": 4,
  "nbformat_minor": 0,
  "metadata": {
    "colab": {
      "name": "Feature_extraction_LSTM.ipynb",
      "provenance": [],
      "collapsed_sections": []
    },
    "kernelspec": {
      "name": "python3",
      "display_name": "Python 3"
    },
    "language_info": {
      "name": "python"
    }
  },
  "cells": [
    {
      "cell_type": "code",
      "source": [
        "#Librerias\n",
        "import pandas as pd\n",
        "import numpy as np"
      ],
      "metadata": {
        "id": "nTkGwLf8Vomx"
      },
      "execution_count": 17,
      "outputs": []
    },
    {
      "cell_type": "code",
      "source": [
        "#Cargar archivo, en .py se puede traer el método de data_cleaning\n",
        "\n",
        "with open('corpus.txt') as f:\n",
        "  corpus = f.readlines()\n",
        "\n",
        "#Corpus se carga como lista, se pasa a un string.\n",
        "corpus = \" \".join(corpus)"
      ],
      "metadata": {
        "id": "2k-3rAqZZjrw"
      },
      "execution_count": 9,
      "outputs": []
    },
    {
      "cell_type": "code",
      "source": [
        "def vectorized_text(corpus):\n",
        "  \"\"\"\n",
        "  Se recibe un texto y lo devuelve en una representación númerica.\n",
        "  \"\"\"\n",
        "  \n",
        "  #Voabulario, caracteres unicos que aparecen en el corpus\n",
        "  vocab = np.array(sorted(np.unique(list(set(corpus)))))\n",
        "  #Asignar un valor numerico a cada caracter\n",
        "  char2idx = {u:i for i, u in enumerate(vocab)}\n",
        "\n",
        "  text_as_int = np.array([char2idx[c] for c in corpus])\n",
        "\n",
        "  return text_as_int, vocab\n"
      ],
      "metadata": {
        "id": "-k1Ce7LZbA40"
      },
      "execution_count": 45,
      "outputs": []
    },
    {
      "cell_type": "code",
      "source": [
        "def export_vect_text(text_as_int, path):\n",
        "  \"\"\"\n",
        "  Opcional por si se desea exportar la vectorización \n",
        "  \"\"\"\n",
        "  text_as_int.tofile(path,\" \")"
      ],
      "metadata": {
        "id": "Fzhgy5g5obMQ"
      },
      "execution_count": 55,
      "outputs": []
    },
    {
      "cell_type": "code",
      "source": [
        "corpus_int, vocab_idx = vectorized_text(corpus)"
      ],
      "metadata": {
        "id": "vTsVYGEUfWV6"
      },
      "execution_count": 53,
      "outputs": []
    },
    {
      "cell_type": "code",
      "source": [
        "export_vect_text(corpus_int, \"vect_corpus.txt\")"
      ],
      "metadata": {
        "id": "-QMdxtmjpZzc"
      },
      "execution_count": 56,
      "outputs": []
    }
  ]
}