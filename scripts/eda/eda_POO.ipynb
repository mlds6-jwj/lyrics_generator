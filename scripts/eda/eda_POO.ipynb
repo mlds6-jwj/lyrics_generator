{
  "nbformat": 4,
  "nbformat_minor": 0,
  "metadata": {
    "colab": {
      "name": "eda_POO.ipynb",
      "provenance": []
    },
    "kernelspec": {
      "name": "python3",
      "display_name": "Python 3"
    },
    "language_info": {
      "name": "python"
    }
  },
  "cells": [
    {
      "cell_type": "code",
      "metadata": {
        "id": "cD0jeKCypLix"
      },
      "source": [
        "import re\n",
        "import pandas as pd\n",
        "import numpy as np\n",
        "import os\n",
        "\n",
        "from nltk.tokenize import WordPunctTokenizer\n",
        "from collections import Counter"
      ],
      "execution_count": null,
      "outputs": []
    },
    {
      "cell_type": "code",
      "metadata": {
        "id": "LjifaXVBseE0"
      },
      "source": [
        "def load_data(path_artist_corpus,path_songs_dataframe):\n",
        "  \"\"\"\n",
        "  path_artist_corpus => path relativo para el dataframe de artist_corpus\n",
        "  path_songs_dataframe => path relativo para el dataframe de songs_dataframe\n",
        "  Esta función carga los datos para comenzar a hacer el exploratory data analysis (EDA)\n",
        "  \"\"\"\n",
        "  artist_corpus = pd.read_csv(path_artist_corpus)\n",
        "  songs_df = pd.read_csv(path_songs_dataframe)\n",
        "  return artist_corpus, songs_df"
      ],
      "execution_count": null,
      "outputs": []
    },
    {
      "cell_type": "code",
      "metadata": {
        "id": "W43E5AUXtJ1b"
      },
      "source": [
        "artist_corpus, songs_df = load_data(path_artist_corpus='artist_corpus.csv', path_songs_dataframe='songs_df.csv')"
      ],
      "execution_count": null,
      "outputs": []
    },
    {
      "cell_type": "code",
      "metadata": {
        "id": "gyerDJVVtUAV"
      },
      "source": [
        "def cont_punt(txt):\n",
        "    \"\"\"\n",
        "    txt => cadena de texto a la cual se le desea hacer el análisis\n",
        "    Esta función permite contar los signos de puntuación por canción para el artista\n",
        "    \"\"\"\n",
        "    cont_punt = Counter(\n",
        "            char\n",
        "            for char in txt\n",
        "            if char in '!\"#$%&\\'()*+,-./:;<=>?@[\\\\]^_`{|}~'\n",
        "            )\n",
        "    return sum(cont_punt.values())"
      ],
      "execution_count": null,
      "outputs": []
    },
    {
      "cell_type": "code",
      "metadata": {
        "id": "h3Jpw-CbuaFj"
      },
      "source": [
        "def preliminar_analysis(songs_df):\n",
        "  \"\"\"\n",
        "  Esta función permite generar las columnas de punkt y len para evaluar la cantidad de signos de puntuación y la longitud promedio de las funciones \n",
        "  \"\"\"\n",
        "  songs_df['punkt'] = songs_df['lyric'].apply(cont_punt)\n",
        "  songs_df['lenght'] = songs_df['lyric'].apply(len)\n",
        "  grouped = songs_df.groupby('artist')[['punkt','lenght']].mean()\n",
        "  return grouped"
      ],
      "execution_count": null,
      "outputs": []
    },
    {
      "cell_type": "code",
      "metadata": {
        "colab": {
          "base_uri": "https://localhost:8080/",
          "height": 144
        },
        "id": "UTbV_fRtv6ox",
        "outputId": "0555aabc-c622-4747-b231-72f20ba5299c"
      },
      "source": [
        "preliminar_analysis(songs_df)"
      ],
      "execution_count": null,
      "outputs": [
        {
          "output_type": "execute_result",
          "data": {
            "text/html": [
              "<div>\n",
              "<style scoped>\n",
              "    .dataframe tbody tr th:only-of-type {\n",
              "        vertical-align: middle;\n",
              "    }\n",
              "\n",
              "    .dataframe tbody tr th {\n",
              "        vertical-align: top;\n",
              "    }\n",
              "\n",
              "    .dataframe thead th {\n",
              "        text-align: right;\n",
              "    }\n",
              "</style>\n",
              "<table border=\"1\" class=\"dataframe\">\n",
              "  <thead>\n",
              "    <tr style=\"text-align: right;\">\n",
              "      <th></th>\n",
              "      <th>punkt</th>\n",
              "      <th>lenght</th>\n",
              "    </tr>\n",
              "    <tr>\n",
              "      <th>artist</th>\n",
              "      <th></th>\n",
              "      <th></th>\n",
              "    </tr>\n",
              "  </thead>\n",
              "  <tbody>\n",
              "    <tr>\n",
              "      <th>Aurora</th>\n",
              "      <td>36.5</td>\n",
              "      <td>1668.5</td>\n",
              "    </tr>\n",
              "    <tr>\n",
              "      <th>MGMT</th>\n",
              "      <td>26.5</td>\n",
              "      <td>1342.0</td>\n",
              "    </tr>\n",
              "  </tbody>\n",
              "</table>\n",
              "</div>"
            ],
            "text/plain": [
              "        punkt  lenght\n",
              "artist               \n",
              "Aurora   36.5  1668.5\n",
              "MGMT     26.5  1342.0"
            ]
          },
          "metadata": {},
          "execution_count": 32
        }
      ]
    },
    {
      "cell_type": "code",
      "metadata": {
        "id": "oms7n4f7wCoD"
      },
      "source": [
        ""
      ],
      "execution_count": null,
      "outputs": []
    }
  ]
}