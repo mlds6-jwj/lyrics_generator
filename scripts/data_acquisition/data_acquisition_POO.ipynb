{
 "cells": [
  {
   "cell_type": "code",
   "execution_count": 1,
   "id": "c9149596",
   "metadata": {
    "executionInfo": {
     "elapsed": 467,
     "status": "ok",
     "timestamp": 1638579897717,
     "user": {
      "displayName": "Juan David Carranza Sanchez",
      "photoUrl": "https://lh3.googleusercontent.com/a-/AOh14GgUfm9g6TOq6Ro-wzm8m1-WXsKpvvqqw2ka_mIPNw=s64",
      "userId": "02568018339751569320"
     },
     "user_tz": 300
    },
    "id": "c9149596"
   },
   "outputs": [
    {
     "ename": "ModuleNotFoundError",
     "evalue": "No module named 'lyricsgenius'",
     "output_type": "error",
     "traceback": [
      "\u001b[0;31m---------------------------------------------------------------------------\u001b[0m",
      "\u001b[0;31mModuleNotFoundError\u001b[0m                       Traceback (most recent call last)",
      "\u001b[0;32m<ipython-input-1-5434701461d9>\u001b[0m in \u001b[0;36m<module>\u001b[0;34m\u001b[0m\n\u001b[1;32m      1\u001b[0m \u001b[0;31m# !pip install lyricsgenius\u001b[0m\u001b[0;34m\u001b[0m\u001b[0;34m\u001b[0m\u001b[0;34m\u001b[0m\u001b[0m\n\u001b[1;32m      2\u001b[0m \u001b[0;34m\u001b[0m\u001b[0m\n\u001b[0;32m----> 3\u001b[0;31m \u001b[0;32mimport\u001b[0m \u001b[0mlyricsgenius\u001b[0m \u001b[0;32mas\u001b[0m \u001b[0mlg\u001b[0m\u001b[0;34m\u001b[0m\u001b[0;34m\u001b[0m\u001b[0m\n\u001b[0m\u001b[1;32m      4\u001b[0m \u001b[0;32mimport\u001b[0m \u001b[0mos\u001b[0m\u001b[0;34m\u001b[0m\u001b[0;34m\u001b[0m\u001b[0m\n",
      "\u001b[0;31mModuleNotFoundError\u001b[0m: No module named 'lyricsgenius'"
     ]
    }
   ],
   "source": [
    "# !pip install lyricsgenius\n",
    "\n",
    "import lyricsgenius as lg\n",
    "import os"
   ]
  },
  {
   "cell_type": "code",
   "execution_count": 2,
   "id": "238fd4a1",
   "metadata": {
    "executionInfo": {
     "elapsed": 6,
     "status": "ok",
     "timestamp": 1638579897717,
     "user": {
      "displayName": "Juan David Carranza Sanchez",
      "photoUrl": "https://lh3.googleusercontent.com/a-/AOh14GgUfm9g6TOq6Ro-wzm8m1-WXsKpvvqqw2ka_mIPNw=s64",
      "userId": "02568018339751569320"
     },
     "user_tz": 300
    },
    "id": "238fd4a1"
   },
   "outputs": [],
   "source": [
    "def login_genius(key = 'h5ZhFryULh_gum-tPES8CR9ovkkJKJHuOXy2WfoebApbBxsfJmjbyRGekOMHmczw', skip = True, exclude = [], remove_headers = True):\n",
    "  \"\"\"\n",
    "  key => llave única para acceder a Genius como desarrollador\n",
    "  skip => salta cualquier contenido que no sean lyrics\n",
    "  exclude => términos que deben ser excluidos del nombre de cada canción, recomendado [('Remix'),('Live')]\n",
    "  remove_headers => quita la descripción de la canción\n",
    "  Esta funcion toma un key del usuario (que se obtiene del registro en Genius) o usa el que esta por defecto, y el usuario puede escoger sa desea saltar elementos que no sean canciones.\n",
    "  Devuelve un objeto de clase Genius que permite la consulta de canciones.\n",
    "  \"\"\"\n",
    "  genius = lg.Genius(key, skip_non_songs = skip, excluded_terms = exclude, remove_section_headers = remove_headers)\n",
    "  return genius"
   ]
  },
  {
   "cell_type": "code",
   "execution_count": 3,
   "id": "_ZLYvl55oheR",
   "metadata": {
    "executionInfo": {
     "elapsed": 5,
     "status": "ok",
     "timestamp": 1638579897717,
     "user": {
      "displayName": "Juan David Carranza Sanchez",
      "photoUrl": "https://lh3.googleusercontent.com/a-/AOh14GgUfm9g6TOq6Ro-wzm8m1-WXsKpvvqqw2ka_mIPNw=s64",
      "userId": "02568018339751569320"
     },
     "user_tz": 300
    },
    "id": "_ZLYvl55oheR"
   },
   "outputs": [],
   "source": [
    "def default_artist():\n",
    "  \"\"\"\n",
    "  Lista por defecto para minar los datos\n",
    "  \"\"\"\n",
    "  artist_list = ['MGMT','Motionless In White','Mistki','The Offspring','Architects','Incubus','Bad Omens','Hollywood Undead','Blink-182','My Chemical Romance','As I Lay Dying','Avenged Sevenfold',\n",
    "                    'Bon Jovi','Cave town','Disturbed','Foo Fighters','Grimes','In Flames','Judas Priest','Korn', 'Nine Inch Nails','The Word Alive','Thirty Seconds To Mars','All Time Low',\n",
    "                    'Thousand FootKrutch','Falling In Reverse','Red','Bring Me The Horizon','Whitechapel','In This Moment','Halestorm','The Amity Affliction','We Came As Romans','Our last night',\n",
    "                    'Icon for hire','Panic At The Disco','Fall Out Boy','Imagine Dragons','Pink Floyd','Def Leppard','Deep Purple','Motley crue','Radiohead','Muse','Bob Dylan','Arctic Monkeys',\n",
    "                    'Beach House','Vampire Weekend','Gorillaz','Interpol','The Strokes','The Killers','Japanese Breakfast','Tame Impala','Metronomy','alt-J','Franz Ferdinand','The Smiths',\n",
    "                    'Future Islands','David Bowie','The Rolling Stones','Angel Olsen','Simon Garfunkel','Eminem','The vaccines','The lumineers','Aurora','Depeche Mode','The Drums',\n",
    "                    'Nick Cave the Bad Seeds','Bob Marley', 'Mr. Kitty','Lacuna Coil','The Neighbourhood','Ice Nine Kills']\n",
    "  return artist_list"
   ]
  },
  {
   "cell_type": "code",
   "execution_count": 11,
   "id": "d05072ff",
   "metadata": {
    "executionInfo": {
     "elapsed": 282,
     "status": "ok",
     "timestamp": 1638580138944,
     "user": {
      "displayName": "Juan David Carranza Sanchez",
      "photoUrl": "https://lh3.googleusercontent.com/a-/AOh14GgUfm9g6TOq6Ro-wzm8m1-WXsKpvvqqw2ka_mIPNw=s64",
      "userId": "02568018339751569320"
     },
     "user_tz": 300
    },
    "id": "d05072ff"
   },
   "outputs": [],
   "source": [
    "def get_lyrics(arr:list, k:int):\n",
    "    \"\"\"\n",
    "    arr => lista de artistas para minar (recomendado que todos sean del mismo idioma)\n",
    "    k => int, número de canciones por artista\n",
    "    Toma un contador desde cero que permite llevar la cuenta de canciones por artista. \n",
    "    Luego, comienza a buscar por arista, la cantidad de canciones deseadas ordenadas por popularidad y las escribe en lyrics.txt, que es la base de datos usada.\n",
    "    Devuelve una lista \n",
    "    \"\"\"\n",
    "    c = 0\n",
    "    lyrics_list = []\n",
    "    for name in arr:\n",
    "        try:\n",
    "            songs = (genius.search_artist(name, max_songs=k, sort='popularity')).songs\n",
    "            s = [f\"Artist:{name}, \\n {song.lyrics} \\n \\n  <|endoftext|>   \\n \\n\" for song in songs]\n",
    "            lyrics_list.append(s)\n",
    "            c += 1\n",
    "            print(f\"Songs grabbed:{len(s)}\")\n",
    "        except:\n",
    "            print(f\"some exception at {name}: {c}\")\n",
    "    return [''.join(x) for x in lyrics_list]"
   ]
  },
  {
   "cell_type": "code",
   "execution_count": 12,
   "id": "0322dae3",
   "metadata": {
    "executionInfo": {
     "elapsed": 260,
     "status": "ok",
     "timestamp": 1638580142377,
     "user": {
      "displayName": "Juan David Carranza Sanchez",
      "photoUrl": "https://lh3.googleusercontent.com/a-/AOh14GgUfm9g6TOq6Ro-wzm8m1-WXsKpvvqqw2ka_mIPNw=s64",
      "userId": "02568018339751569320"
     },
     "user_tz": 300
    },
    "id": "0322dae3"
   },
   "outputs": [],
   "source": [
    "def create_file(name='lyrics.txt', lyrics_list = []):\n",
    "  \"\"\"\n",
    "  name => nombre del archivo+extensión, por defecto es lyrics.txt\n",
    "  lyrics_list => lista con los artistas y sus respectivas canciones\n",
    "  Crea un archivo donde se guardarán las canciones descargadas\n",
    "  \"\"\"\n",
    "  lyrics = open(f'{name}',\"w\")\n",
    "  lyrics.write(' '.join(map(str, final_lyrics)))\n",
    "  lyrics.close()\n"
   ]
  },
  {
   "cell_type": "code",
   "execution_count": 13,
   "id": "hC4gOTG_s4m3",
   "metadata": {
    "executionInfo": {
     "elapsed": 284,
     "status": "ok",
     "timestamp": 1638580157219,
     "user": {
      "displayName": "Juan David Carranza Sanchez",
      "photoUrl": "https://lh3.googleusercontent.com/a-/AOh14GgUfm9g6TOq6Ro-wzm8m1-WXsKpvvqqw2ka_mIPNw=s64",
      "userId": "02568018339751569320"
     },
     "user_tz": 300
    },
    "id": "hC4gOTG_s4m3"
   },
   "outputs": [],
   "source": [
    "genius = login_genius(exclude=['(Remix)', '(Live)'])"
   ]
  },
  {
   "cell_type": "code",
   "execution_count": 14,
   "id": "o1pn0cTYvWS-",
   "metadata": {
    "executionInfo": {
     "elapsed": 1,
     "status": "ok",
     "timestamp": 1638580158007,
     "user": {
      "displayName": "Juan David Carranza Sanchez",
      "photoUrl": "https://lh3.googleusercontent.com/a-/AOh14GgUfm9g6TOq6Ro-wzm8m1-WXsKpvvqqw2ka_mIPNw=s64",
      "userId": "02568018339751569320"
     },
     "user_tz": 300
    },
    "id": "o1pn0cTYvWS-"
   },
   "outputs": [],
   "source": [
    "artists = default_artist()"
   ]
  },
  {
   "cell_type": "code",
   "execution_count": null,
   "id": "lmvFPdVzzVTy",
   "metadata": {
    "id": "lmvFPdVzzVTy"
   },
   "outputs": [],
   "source": [
    "final_lyrics = get_lyrics(arr = artists, k = 25)"
   ]
  },
  {
   "cell_type": "code",
   "execution_count": 17,
   "id": "nrT53B_96fO4",
   "metadata": {
    "executionInfo": {
     "elapsed": 273,
     "status": "ok",
     "timestamp": 1638580189727,
     "user": {
      "displayName": "Juan David Carranza Sanchez",
      "photoUrl": "https://lh3.googleusercontent.com/a-/AOh14GgUfm9g6TOq6Ro-wzm8m1-WXsKpvvqqw2ka_mIPNw=s64",
      "userId": "02568018339751569320"
     },
     "user_tz": 300
    },
    "id": "nrT53B_96fO4"
   },
   "outputs": [],
   "source": [
    "create_file('lyrics.txt', final_lyrics)"
   ]
  }
 ],
 "metadata": {
  "colab": {
   "name": "data_acquisition_POO.ipynb",
   "provenance": []
  },
  "kernelspec": {
   "display_name": "Python 3",
   "language": "python",
   "name": "python3"
  },
  "language_info": {
   "codemirror_mode": {
    "name": "ipython",
    "version": 3
   },
   "file_extension": ".py",
   "mimetype": "text/x-python",
   "name": "python",
   "nbconvert_exporter": "python",
   "pygments_lexer": "ipython3",
   "version": "3.8.10"
  }
 },
 "nbformat": 4,
 "nbformat_minor": 5
}
