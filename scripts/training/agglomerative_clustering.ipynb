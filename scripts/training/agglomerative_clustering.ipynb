{
  "cells": [
    {
      "cell_type": "code",
      "execution_count": 13,
      "metadata": {
        "id": "YClvlzf3Q2XF"
      },
      "outputs": [],
      "source": [
        "import os\n",
        "\n",
        "import numpy as np\n",
        "import pandas as pd \n",
        "import plotly.graph_objects as go\n",
        "import plotly.express as px \n",
        "\n",
        "from sklearn.cluster import AgglomerativeClustering\n",
        "from sklearn.metrics import silhouette_score\n",
        "from sklearn.manifold import TSNE\n",
        "from plotly import offline"
      ]
    },
    {
      "cell_type": "code",
      "execution_count": 23,
      "metadata": {
        "id": "12YNUMiYeV9g"
      },
      "outputs": [],
      "source": [
        "def open_file(path):\n",
        "  \"\"\"\n",
        "  path : str, el path relativo a este documento\n",
        "  Esta función lee el dataset para su modelación\n",
        "  \"\"\"\n",
        "  dataset = pd.read_csv(path, index_col=0)\n",
        "  return dataset"
      ]
    },
    {
      "cell_type": "code",
      "execution_count": 27,
      "metadata": {
        "id": "leedGmBGReXE"
      },
      "outputs": [],
      "source": [
        "def model_generation(numero_clusters, dataset, normalizar):\n",
        "  \"\"\"\n",
        "  numero_clusters: entero, número de clusters deseados o indicados por model_evaluation a criterio del investigador\n",
        "  dataset: dataset de pandas, contiene las features definidas, debe tener sólo números\n",
        "  nombre_columna: str, nombre que se desea poner a la columna que contiene la clasificación del clúster\n",
        "  Esta función genera el modelo y lo ajusta con respecto al número de clústers deseados, dado un dataset con las features o características deseadas. Así mismo,\n",
        "  devuelve una tabla de frecuencias de los clusters, y ésta puede normalizarse\n",
        "  \"\"\"\n",
        "  model = AgglomerativeClustering(n_clusters=numero_clusters)\n",
        "  ypred = model.fit_predict(dataset)\n",
        "  freq = pd.Series(ypred).value_counts(normalize = normalizar)\n",
        "  \n",
        "  return model, ypred, freq"
      ]
    },
    {
      "cell_type": "code",
      "execution_count": 37,
      "metadata": {
        "id": "0PqmbVURYHzd"
      },
      "outputs": [],
      "source": [
        "def graph_model(dataset, ypred):\n",
        "  \"\"\"\n",
        "  dataset: dataset de pandas, contiene las features definidas, debe tener sólo números\n",
        "  ypred: clúster predicho por el modelo\n",
        "  Esta función genera el gráfico del modelo, éste es tridimensional y generado por plotly. \n",
        "  \"\"\"\n",
        "  transform_data = pd.DataFrame(TSNE(3, random_state = 2021).fit_transform(dataset), columns=['x','y','z'], index=dataset.index)\n",
        "  transform_data['Predicted'] = ypred\n",
        "\n",
        "  fig = px.scatter_3d(transform_data, x='x', y='y', z='z',\n",
        "                      color='Predicted', hover_name = transform_data.index)\n",
        "  fig.update_layout(autosize=False,\n",
        "      width=750,\n",
        "      height=750)\n",
        "  fig.show()  \n",
        "\n",
        "  return transform_data, fig"
      ]
    },
    {
      "cell_type": "code",
      "execution_count": 15,
      "metadata": {
        "id": "PvJI3EmydG9X"
      },
      "outputs": [],
      "source": [
        "def export_model(transform_data, path_transform_data, original_data, path_original_data, ypred, fig, path_fig):\n",
        "  \"\"\"\n",
        "  transform_data: Dataframe obtenido por el primer argumento de graph_model\n",
        "  path_transform_data: Path relativo para guardar el dataframe a csv\n",
        "  original_data: Dataframe original\n",
        "  path_original_data: Path relativo para guardar el dataframe a csv\n",
        "  ypred: Clústeres asignados\n",
        "  fig: Imagen de plotly para guardar en html\n",
        "  path_complete_corpus: Path relativo para guardar la imagen\n",
        "  Esta función exporta todo lo obtenido en este archivo hecho por modelling\n",
        "  \"\"\"\n",
        "  transform_data.to_csv(path_transform_data)\n",
        "  original_data['Predicted'] = ypred\n",
        "  original_data.to_csv(path_original_data)\n",
        "  offline.plot(fig, filename=path_fig)"
      ]
    },
    {
      "cell_type": "code",
      "execution_count": 25,
      "metadata": {
        "id": "QyWgUXjAiHID"
      },
      "outputs": [],
      "source": [
        "dataset = open_file('df_features_emolex.csv')"
      ]
    },
    {
      "cell_type": "code",
      "execution_count": 29,
      "metadata": {
        "id": "0U3gfrDsiqqJ"
      },
      "outputs": [],
      "source": [
        "model, ypred, freq = model_generation(5, dataset, True)"
      ]
    },
    {
      "cell_type": "code",
      "execution_count": 38,
      "metadata": {
        "colab": {
          "base_uri": "https://localhost:8080/",
          "height": 905
        },
        "id": "RgrN6bu4i8NY",
        "outputId": "0dfe0190-58ec-45b6-e47c-0c80bbdb7d86"
      },
      "outputs": [
        {
          "name": "stderr",
          "output_type": "stream",
          "text": [
            "/usr/local/lib/python3.7/dist-packages/sklearn/manifold/_t_sne.py:783: FutureWarning:\n",
            "\n",
            "The default initialization in TSNE will change from 'random' to 'pca' in 1.2.\n",
            "\n",
            "/usr/local/lib/python3.7/dist-packages/sklearn/manifold/_t_sne.py:793: FutureWarning:\n",
            "\n",
            "The default learning rate in TSNE will change from 200.0 to 'auto' in 1.2.\n",
            "\n"
          ]
        },
        {
          "data": {
            "text/html": [
              "<html>\n",
              "<head><meta charset=\"utf-8\" /></head>\n",
              "<body>\n",
              "    <div>\n",
              "            <script src=\"https://cdnjs.cloudflare.com/ajax/libs/mathjax/2.7.5/MathJax.js?config=TeX-AMS-MML_SVG\"></script><script type=\"text/javascript\">if (window.MathJax) {MathJax.Hub.Config({SVG: {font: \"STIX-Web\"}});}</script>\n",
              "                <script type=\"text/javascript\">window.PlotlyConfig = {MathJaxConfig: 'local'};</script>\n",
              "        <script src=\"https://cdn.plot.ly/plotly-latest.min.js\"></script>    \n",
              "            <div id=\"07e2bd89-e7a9-4fb6-88af-ab92630bc358\" class=\"plotly-graph-div\" style=\"height:750px; width:750px;\"></div>\n",
              "            <script type=\"text/javascript\">\n",
              "                \n",
              "                    window.PLOTLYENV=window.PLOTLYENV || {};\n",
              "                    \n",
              "                if (document.getElementById(\"07e2bd89-e7a9-4fb6-88af-ab92630bc358\")) {\n",
              "                    Plotly.newPlot(\n",
              "                        '07e2bd89-e7a9-4fb6-88af-ab92630bc358',\n",
              "                        [{\"hoverlabel\": {\"namelength\": 0}, \"hovertemplate\": \"<b>%{hovertext}</b><br><br>x=%{x}<br>y=%{y}<br>z=%{z}<br>Predicted=%{marker.color}\", \"hovertext\": [\"AllTimeLow\", \"AngelOlsen\", \"Architects\", \"BadOmens\", \"BeachHouse\", \"Blink-182\", \"BobDylan\", \"BonJovi\", \"BringMeTheHorizon\", \"DavidBowie\", \"DeepPurple\", \"DepecheMode\", \"Disturbed\", \"Eminem\", \"FallOutBoy\", \"FooFighters\", \"FranzFerdinand\", \"Gorillaz\", \"Grimes\", \"Halestorm\", \"InFlames\", \"InThisMoment\", \"Incubus\", \"Interpol\", \"JapaneseBreakfast\", \"Korn\", \"LacunaCoil\", \"MGMT\", \"Metronomy\", \"MotionlessInWhite\", \"Motleycrue\", \"MrKitty\", \"Muse\", \"MyChemicalRomance\", \"NickCavetheBadSeeds\", \"NineInchNails\", \"Ourlastnight\", \"PanicAtTheDisco\", \"Radiohead\", \"Red\", \"TameImpala\", \"TheAmityAffliction\", \"TheDrums\", \"TheOffspring\", \"TheRollingStones\", \"TheSmiths\", \"TheStrokes\", \"TheWordAlive\", \"Thelumineers\", \"Thevaccines\", \"ThirtySecondsToMars\", \"ThousandFootKrutch\", \"VampireWeekend\", \"WeCameAsRomans\", \"Whitechapel\", \"alt-J\"], \"legendgroup\": \"\", \"marker\": {\"color\": [2, 0, 1, 2, 0, 2, 2, 4, 2, 4, 0, 0, 1, 1, 0, 2, 3, 0, 4, 2, 2, 1, 4, 0, 4, 1, 1, 4, 3, 1, 4, 1, 2, 1, 3, 1, 2, 4, 2, 1, 0, 1, 0, 4, 4, 2, 0, 1, 4, 0, 2, 1, 0, 4, 1, 3], \"coloraxis\": \"coloraxis\", \"symbol\": \"circle\"}, \"mode\": \"markers\", \"name\": \"\", \"scene\": \"scene\", \"showlegend\": false, \"type\": \"scatter3d\", \"x\": [174.243408203125, -69.69804382324219, 197.9894256591797, -202.57093811035156, 120.22465515136719, 264.56695556640625, -113.6686019897461, 33.21140670776367, -98.7686996459961, -136.02822875976562, 37.79168701171875, -909.5842895507812, -64.36605072021484, -263.26287841796875, -57.20370864868164, 229.56422424316406, -160.94456481933594, 13.201982498168945, 29.87014389038086, -92.92990112304688, 152.54470825195312, -27.773347854614258, 153.7742156982422, -72.10063934326172, 149.35218811035156, -183.46109008789062, 157.4218292236328, 171.4553680419922, 78.45787811279297, 120.96669006347656, -183.92637634277344, -169.24241638183594, -176.78994750976562, 385.6348571777344, 33.62251281738281, -114.91050720214844, -186.13742065429688, -179.03811645507812, -116.09052276611328, 133.33786010742188, -38.73310852050781, 6.442409992218018, 25.696117401123047, -2.032578706741333, 1138.1480712890625, -50.1375617980957, -19.54781723022461, -63.89042663574219, 60.53231430053711, 70.21711730957031, 46.597991943359375, 41.13176727294922, 16.588396072387695, 65.39303588867188, 189.48182678222656, 152.92039489746094], \"y\": [-6.61221981048584, 185.57736206054688, 97.9884262084961, 81.78433990478516, -21.17489242553711, 9.724692344665527, -196.8599395751953, -91.91849517822266, -127.08128356933594, 275.1494140625, 82.15440368652344, -235.24119567871094, -211.6280059814453, 30.06130027770996, -8.517570495605469, -79.76490020751953, 117.44283294677734, -15.822688102722168, 188.48513793945312, 52.41977310180664, -139.6937255859375, 54.86399459838867, 1.043776512145996, -89.0025863647461, -144.64405822753906, -8.415102005004883, 204.9665985107422, 124.5901870727539, 76.90909576416016, -194.5989227294922, -1.5658655166625977, 107.84699249267578, -25.744035720825195, 171.7311248779297, 198.81642150878906, 203.10519409179688, -111.48023223876953, -135.24163818359375, -8.647378921508789, -245.966064453125, -110.22026824951172, -286.8575134277344, -93.61865234375, 8.83209228515625, 168.37472534179688, 102.33866882324219, -215.4029083251953, 135.0646209716797, 8.080059051513672, -80.49565887451172, 193.74929809570312, -97.89815521240234, -152.16326904296875, 79.20560455322266, -138.4208984375, -2.4431674480438232], \"z\": [-161.6385498046875, 172.12677001953125, -75.3347396850586, 44.589515686035156, -34.95697784423828, 19.140213012695312, 22.654638290405273, -98.16525268554688, -162.85858154296875, 192.43756103515625, -70.18973541259766, 578.5155029296875, 171.8275146484375, -64.00603485107422, -116.23027038574219, -78.7186279296875, 160.70883178710938, -0.8288700580596924, 18.6971378326416, -10.778549194335938, -17.168853759765625, -246.0443572998047, 193.67626953125, -16.809003829956055, -239.80230712890625, 213.62466430664062, -34.70204162597656, 103.74659729003906, 36.956268310546875, -121.41577911376953, -210.5847625732422, -107.15725708007812, 1.2271873950958252, -118.14945983886719, -101.9537124633789, -19.201766967773438, 90.91969299316406, -68.33890533447266, 108.25082397460938, 51.41030502319336, 115.57975769042969, 27.111345291137695, -218.32223510742188, 134.77297973632812, -478.99566650390625, 79.27934265136719, -90.46475982666016, -151.16831970214844, -153.9860382080078, 77.8906478881836, 141.90725708007812, 226.29505920410156, 10.040828704833984, 192.652099609375, 111.27503204345703, 77.41606140136719]}],\n",
              "                        {\"autosize\": false, \"coloraxis\": {\"colorbar\": {\"title\": {\"text\": \"Predicted\"}}, \"colorscale\": [[0.0, \"#0d0887\"], [0.1111111111111111, \"#46039f\"], [0.2222222222222222, \"#7201a8\"], [0.3333333333333333, \"#9c179e\"], [0.4444444444444444, \"#bd3786\"], [0.5555555555555556, \"#d8576b\"], [0.6666666666666666, \"#ed7953\"], [0.7777777777777778, \"#fb9f3a\"], [0.8888888888888888, \"#fdca26\"], [1.0, \"#f0f921\"]]}, \"height\": 750, \"legend\": {\"tracegroupgap\": 0}, \"margin\": {\"t\": 60}, \"scene\": {\"domain\": {\"x\": [0.0, 1.0], \"y\": [0.0, 1.0]}, \"xaxis\": {\"title\": {\"text\": \"x\"}}, \"yaxis\": {\"title\": {\"text\": \"y\"}}, \"zaxis\": {\"title\": {\"text\": \"z\"}}}, \"template\": {\"data\": {\"bar\": [{\"error_x\": {\"color\": \"#2a3f5f\"}, \"error_y\": {\"color\": \"#2a3f5f\"}, \"marker\": {\"line\": {\"color\": \"#E5ECF6\", \"width\": 0.5}}, \"type\": \"bar\"}], \"barpolar\": [{\"marker\": {\"line\": {\"color\": \"#E5ECF6\", \"width\": 0.5}}, \"type\": \"barpolar\"}], \"carpet\": [{\"aaxis\": {\"endlinecolor\": \"#2a3f5f\", \"gridcolor\": \"white\", \"linecolor\": \"white\", \"minorgridcolor\": \"white\", \"startlinecolor\": \"#2a3f5f\"}, \"baxis\": {\"endlinecolor\": \"#2a3f5f\", \"gridcolor\": \"white\", \"linecolor\": \"white\", \"minorgridcolor\": \"white\", \"startlinecolor\": \"#2a3f5f\"}, \"type\": \"carpet\"}], \"choropleth\": [{\"colorbar\": {\"outlinewidth\": 0, \"ticks\": \"\"}, \"type\": \"choropleth\"}], \"contour\": [{\"colorbar\": {\"outlinewidth\": 0, \"ticks\": \"\"}, \"colorscale\": [[0.0, \"#0d0887\"], [0.1111111111111111, \"#46039f\"], [0.2222222222222222, \"#7201a8\"], [0.3333333333333333, \"#9c179e\"], [0.4444444444444444, \"#bd3786\"], [0.5555555555555556, \"#d8576b\"], [0.6666666666666666, \"#ed7953\"], [0.7777777777777778, \"#fb9f3a\"], [0.8888888888888888, \"#fdca26\"], [1.0, \"#f0f921\"]], \"type\": \"contour\"}], \"contourcarpet\": [{\"colorbar\": {\"outlinewidth\": 0, \"ticks\": \"\"}, \"type\": \"contourcarpet\"}], \"heatmap\": [{\"colorbar\": {\"outlinewidth\": 0, \"ticks\": \"\"}, \"colorscale\": [[0.0, \"#0d0887\"], [0.1111111111111111, \"#46039f\"], [0.2222222222222222, \"#7201a8\"], [0.3333333333333333, \"#9c179e\"], [0.4444444444444444, \"#bd3786\"], [0.5555555555555556, \"#d8576b\"], [0.6666666666666666, \"#ed7953\"], [0.7777777777777778, \"#fb9f3a\"], [0.8888888888888888, \"#fdca26\"], [1.0, \"#f0f921\"]], \"type\": \"heatmap\"}], \"heatmapgl\": [{\"colorbar\": {\"outlinewidth\": 0, \"ticks\": \"\"}, \"colorscale\": [[0.0, \"#0d0887\"], [0.1111111111111111, \"#46039f\"], [0.2222222222222222, \"#7201a8\"], [0.3333333333333333, \"#9c179e\"], [0.4444444444444444, \"#bd3786\"], [0.5555555555555556, \"#d8576b\"], [0.6666666666666666, \"#ed7953\"], [0.7777777777777778, \"#fb9f3a\"], [0.8888888888888888, \"#fdca26\"], [1.0, \"#f0f921\"]], \"type\": \"heatmapgl\"}], \"histogram\": [{\"marker\": {\"colorbar\": {\"outlinewidth\": 0, \"ticks\": \"\"}}, \"type\": \"histogram\"}], \"histogram2d\": [{\"colorbar\": {\"outlinewidth\": 0, \"ticks\": \"\"}, \"colorscale\": [[0.0, \"#0d0887\"], [0.1111111111111111, \"#46039f\"], [0.2222222222222222, \"#7201a8\"], [0.3333333333333333, \"#9c179e\"], [0.4444444444444444, \"#bd3786\"], [0.5555555555555556, \"#d8576b\"], [0.6666666666666666, \"#ed7953\"], [0.7777777777777778, \"#fb9f3a\"], [0.8888888888888888, \"#fdca26\"], [1.0, \"#f0f921\"]], \"type\": \"histogram2d\"}], \"histogram2dcontour\": [{\"colorbar\": {\"outlinewidth\": 0, \"ticks\": \"\"}, \"colorscale\": [[0.0, \"#0d0887\"], [0.1111111111111111, \"#46039f\"], [0.2222222222222222, \"#7201a8\"], [0.3333333333333333, \"#9c179e\"], [0.4444444444444444, \"#bd3786\"], [0.5555555555555556, \"#d8576b\"], [0.6666666666666666, \"#ed7953\"], [0.7777777777777778, \"#fb9f3a\"], [0.8888888888888888, \"#fdca26\"], [1.0, \"#f0f921\"]], \"type\": \"histogram2dcontour\"}], \"mesh3d\": [{\"colorbar\": {\"outlinewidth\": 0, \"ticks\": \"\"}, \"type\": \"mesh3d\"}], \"parcoords\": [{\"line\": {\"colorbar\": {\"outlinewidth\": 0, \"ticks\": \"\"}}, \"type\": \"parcoords\"}], \"pie\": [{\"automargin\": true, \"type\": \"pie\"}], \"scatter\": [{\"marker\": {\"colorbar\": {\"outlinewidth\": 0, \"ticks\": \"\"}}, \"type\": \"scatter\"}], \"scatter3d\": [{\"line\": {\"colorbar\": {\"outlinewidth\": 0, \"ticks\": \"\"}}, \"marker\": {\"colorbar\": {\"outlinewidth\": 0, \"ticks\": \"\"}}, \"type\": \"scatter3d\"}], \"scattercarpet\": [{\"marker\": {\"colorbar\": {\"outlinewidth\": 0, \"ticks\": \"\"}}, \"type\": \"scattercarpet\"}], \"scattergeo\": [{\"marker\": {\"colorbar\": {\"outlinewidth\": 0, \"ticks\": \"\"}}, \"type\": \"scattergeo\"}], \"scattergl\": [{\"marker\": {\"colorbar\": {\"outlinewidth\": 0, \"ticks\": \"\"}}, \"type\": \"scattergl\"}], \"scattermapbox\": [{\"marker\": {\"colorbar\": {\"outlinewidth\": 0, \"ticks\": \"\"}}, \"type\": \"scattermapbox\"}], \"scatterpolar\": [{\"marker\": {\"colorbar\": {\"outlinewidth\": 0, \"ticks\": \"\"}}, \"type\": \"scatterpolar\"}], \"scatterpolargl\": [{\"marker\": {\"colorbar\": {\"outlinewidth\": 0, \"ticks\": \"\"}}, \"type\": \"scatterpolargl\"}], \"scatterternary\": [{\"marker\": {\"colorbar\": {\"outlinewidth\": 0, \"ticks\": \"\"}}, \"type\": \"scatterternary\"}], \"surface\": [{\"colorbar\": {\"outlinewidth\": 0, \"ticks\": \"\"}, \"colorscale\": [[0.0, \"#0d0887\"], [0.1111111111111111, \"#46039f\"], [0.2222222222222222, \"#7201a8\"], [0.3333333333333333, \"#9c179e\"], [0.4444444444444444, \"#bd3786\"], [0.5555555555555556, \"#d8576b\"], [0.6666666666666666, \"#ed7953\"], [0.7777777777777778, \"#fb9f3a\"], [0.8888888888888888, \"#fdca26\"], [1.0, \"#f0f921\"]], \"type\": \"surface\"}], \"table\": [{\"cells\": {\"fill\": {\"color\": \"#EBF0F8\"}, \"line\": {\"color\": \"white\"}}, \"header\": {\"fill\": {\"color\": \"#C8D4E3\"}, \"line\": {\"color\": \"white\"}}, \"type\": \"table\"}]}, \"layout\": {\"annotationdefaults\": {\"arrowcolor\": \"#2a3f5f\", \"arrowhead\": 0, \"arrowwidth\": 1}, \"coloraxis\": {\"colorbar\": {\"outlinewidth\": 0, \"ticks\": \"\"}}, \"colorscale\": {\"diverging\": [[0, \"#8e0152\"], [0.1, \"#c51b7d\"], [0.2, \"#de77ae\"], [0.3, \"#f1b6da\"], [0.4, \"#fde0ef\"], [0.5, \"#f7f7f7\"], [0.6, \"#e6f5d0\"], [0.7, \"#b8e186\"], [0.8, \"#7fbc41\"], [0.9, \"#4d9221\"], [1, \"#276419\"]], \"sequential\": [[0.0, \"#0d0887\"], [0.1111111111111111, \"#46039f\"], [0.2222222222222222, \"#7201a8\"], [0.3333333333333333, \"#9c179e\"], [0.4444444444444444, \"#bd3786\"], [0.5555555555555556, \"#d8576b\"], [0.6666666666666666, \"#ed7953\"], [0.7777777777777778, \"#fb9f3a\"], [0.8888888888888888, \"#fdca26\"], [1.0, \"#f0f921\"]], \"sequentialminus\": [[0.0, \"#0d0887\"], [0.1111111111111111, \"#46039f\"], [0.2222222222222222, \"#7201a8\"], [0.3333333333333333, \"#9c179e\"], [0.4444444444444444, \"#bd3786\"], [0.5555555555555556, \"#d8576b\"], [0.6666666666666666, \"#ed7953\"], [0.7777777777777778, \"#fb9f3a\"], [0.8888888888888888, \"#fdca26\"], [1.0, \"#f0f921\"]]}, \"colorway\": [\"#636efa\", \"#EF553B\", \"#00cc96\", \"#ab63fa\", \"#FFA15A\", \"#19d3f3\", \"#FF6692\", \"#B6E880\", \"#FF97FF\", \"#FECB52\"], \"font\": {\"color\": \"#2a3f5f\"}, \"geo\": {\"bgcolor\": \"white\", \"lakecolor\": \"white\", \"landcolor\": \"#E5ECF6\", \"showlakes\": true, \"showland\": true, \"subunitcolor\": \"white\"}, \"hoverlabel\": {\"align\": \"left\"}, \"hovermode\": \"closest\", \"mapbox\": {\"style\": \"light\"}, \"paper_bgcolor\": \"white\", \"plot_bgcolor\": \"#E5ECF6\", \"polar\": {\"angularaxis\": {\"gridcolor\": \"white\", \"linecolor\": \"white\", \"ticks\": \"\"}, \"bgcolor\": \"#E5ECF6\", \"radialaxis\": {\"gridcolor\": \"white\", \"linecolor\": \"white\", \"ticks\": \"\"}}, \"scene\": {\"xaxis\": {\"backgroundcolor\": \"#E5ECF6\", \"gridcolor\": \"white\", \"gridwidth\": 2, \"linecolor\": \"white\", \"showbackground\": true, \"ticks\": \"\", \"zerolinecolor\": \"white\"}, \"yaxis\": {\"backgroundcolor\": \"#E5ECF6\", \"gridcolor\": \"white\", \"gridwidth\": 2, \"linecolor\": \"white\", \"showbackground\": true, \"ticks\": \"\", \"zerolinecolor\": \"white\"}, \"zaxis\": {\"backgroundcolor\": \"#E5ECF6\", \"gridcolor\": \"white\", \"gridwidth\": 2, \"linecolor\": \"white\", \"showbackground\": true, \"ticks\": \"\", \"zerolinecolor\": \"white\"}}, \"shapedefaults\": {\"line\": {\"color\": \"#2a3f5f\"}}, \"ternary\": {\"aaxis\": {\"gridcolor\": \"white\", \"linecolor\": \"white\", \"ticks\": \"\"}, \"baxis\": {\"gridcolor\": \"white\", \"linecolor\": \"white\", \"ticks\": \"\"}, \"bgcolor\": \"#E5ECF6\", \"caxis\": {\"gridcolor\": \"white\", \"linecolor\": \"white\", \"ticks\": \"\"}}, \"title\": {\"x\": 0.05}, \"xaxis\": {\"automargin\": true, \"gridcolor\": \"white\", \"linecolor\": \"white\", \"ticks\": \"\", \"title\": {\"standoff\": 15}, \"zerolinecolor\": \"white\", \"zerolinewidth\": 2}, \"yaxis\": {\"automargin\": true, \"gridcolor\": \"white\", \"linecolor\": \"white\", \"ticks\": \"\", \"title\": {\"standoff\": 15}, \"zerolinecolor\": \"white\", \"zerolinewidth\": 2}}}, \"width\": 750},\n",
              "                        {\"responsive\": true}\n",
              "                    ).then(function(){\n",
              "                            \n",
              "var gd = document.getElementById('07e2bd89-e7a9-4fb6-88af-ab92630bc358');\n",
              "var x = new MutationObserver(function (mutations, observer) {{\n",
              "        var display = window.getComputedStyle(gd).display;\n",
              "        if (!display || display === 'none') {{\n",
              "            console.log([gd, 'removed!']);\n",
              "            Plotly.purge(gd);\n",
              "            observer.disconnect();\n",
              "        }}\n",
              "}});\n",
              "\n",
              "// Listen for the removal of the full notebook cells\n",
              "var notebookContainer = gd.closest('#notebook-container');\n",
              "if (notebookContainer) {{\n",
              "    x.observe(notebookContainer, {childList: true});\n",
              "}}\n",
              "\n",
              "// Listen for the clearing of the current output cell\n",
              "var outputEl = gd.closest('.output');\n",
              "if (outputEl) {{\n",
              "    x.observe(outputEl, {childList: true});\n",
              "}}\n",
              "\n",
              "                        })\n",
              "                };\n",
              "                \n",
              "            </script>\n",
              "        </div>\n",
              "</body>\n",
              "</html>"
            ]
          },
          "metadata": {},
          "output_type": "display_data"
        }
      ],
      "source": [
        "transform_data, fig = graph_model(dataset, ypred)"
      ]
    },
    {
      "cell_type": "code",
      "execution_count": 41,
      "metadata": {
        "colab": {
          "base_uri": "https://localhost:8080/"
        },
        "id": "HGL9rxYgjvBc",
        "outputId": "c3630434-65c4-4ccc-b09d-faeec8ef59ff"
      },
      "outputs": [
        {
          "name": "stderr",
          "output_type": "stream",
          "text": [
            "/usr/local/lib/python3.7/dist-packages/plotly/offline/offline.py:562: UserWarning:\n",
            "\n",
            "Your filename `path_fig` didn't end with .html. Adding .html to the end of your file.\n",
            "\n"
          ]
        }
      ],
      "source": [
        "export_model(transform_data, \"transformed_data.csv\", dataset, \"dataset_predicted.csv\", ypred, fig, path_fig=\"fig.html\")"
      ]
    }
  ],
  "metadata": {
    "colab": {
      "name": "agglomerative_clustering.ipynb",
      "provenance": []
    },
    "kernelspec": {
      "display_name": "Python 3",
      "name": "python3"
    },
    "language_info": {
      "name": "python"
    }
  },
  "nbformat": 4,
  "nbformat_minor": 0
}
