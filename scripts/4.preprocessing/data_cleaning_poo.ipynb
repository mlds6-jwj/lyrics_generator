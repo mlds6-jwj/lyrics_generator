{
  "nbformat": 4,
  "nbformat_minor": 0,
  "metadata": {
    "colab": {
      "name": "data_cleaning_poo.ipynb",
      "provenance": [],
      "collapsed_sections": []
    },
    "kernelspec": {
      "name": "python3",
      "display_name": "Python 3"
    },
    "language_info": {
      "name": "python"
    }
  },
  "cells": [
    {
      "cell_type": "code",
      "metadata": {
        "id": "HC2Y1cIUBag3"
      },
      "source": [
        "import os \n",
        "import re\n",
        "import pandas as pd \n",
        "import numpy as np"
      ],
      "execution_count": null,
      "outputs": []
    },
    {
      "cell_type": "code",
      "metadata": {
        "id": "krOVNwWdBhYU"
      },
      "source": [
        "def open_file(path):\n",
        "  \"\"\"\n",
        "  path => str, el path relativo a este documento\n",
        "  Esta función lee el dataset para su limpieza\n",
        "  \"\"\"\n",
        "  text_file = open(path).read()\n",
        "  return text_file"
      ],
      "execution_count": null,
      "outputs": []
    },
    {
      "cell_type": "code",
      "metadata": {
        "id": "eebAY7RSGu_l"
      },
      "source": [
        "def define_artists(data):\n",
        "  \"\"\"\n",
        "  data => archivo de strings\n",
        "  Esta función define los artistas usados en el minado de canciones\n",
        "  \"\"\"\n",
        "  artists = re.findall(\"Artist:*.+\", data)\n",
        "  artist_clean = []\n",
        "  for artist in artists:\n",
        "    artist_clean.append(re.sub(r'Artist:|[^a-zA-Z0-9-]', \"\", artist))\n",
        "  return artist_clean"
      ],
      "execution_count": null,
      "outputs": []
    },
    {
      "cell_type": "code",
      "metadata": {
        "id": "ejaVc-_4J2rg"
      },
      "source": [
        "def lyrics_cleaning(data, special_words=\"\"):\n",
        "  \"\"\"\n",
        "  data = data cruda\n",
        "  special_words = lista de estribillos dentro de paréntesis, separados por \"|\", ejemplo: \"oh|Oh|yeah\"\n",
        "  Esta función limpia el texto, basándose en el texto de entrada y en estribillos o frases que el cliente desee eliminar\n",
        "  \"\"\"\n",
        "  lyrics = data.split('Artist:') #Separamos la base por la palara Artist, quedando en cada elemento de la lista la letra de una canción completo\n",
        "  lyrics_prelim = []\n",
        "\n",
        "  #Limpieza de texto.\n",
        "  for lyric in lyrics:\n",
        "    lyrics_prelim.append(re.sub(' +', ' ', #Convierte espacios múltiples en uno solo\n",
        "                                re.sub(' , ', '', # Elimina las comas solitarias\n",
        "                                       re.sub(r\"|ahah|Ahah|Hey|hey|oh|la-la|sha-ba-da|Shoop-doop-doop|​efil|flaH|yeah|urlcopyembedcopy|\\\\\",\"\", #Elimina estribillos\n",
        "                                              re.sub(r\"endoftext|EmbedShare|URLCopyEmbedCopy\",\"\", #Elimina la etiqueta del final del texto \n",
        "                                                     re.sub(r\"{sp}\".format(sp = special_words), \"\", # El usuario puede quitar los estribillos que considere\n",
        "                                                            re.sub(r\"[^a-zA-Z\\s\\.\\,\\']\",\"\", #Reemplaza los saltos de línea entre cada prosa con un espacio en blanco\n",
        "                                                                   re.sub(r\".*,\", \"\", lyric, 1)))))))) #Elimina la etiqueta al principio de cada canción que indica al artista\n",
        "  return lyrics_prelim[1:]"
      ],
      "execution_count": null,
      "outputs": []
    },
    {
      "cell_type": "code",
      "metadata": {
        "id": "b2x08ghoM8By"
      },
      "source": [
        "def data_formatting(artist_list, lyrics_list):\n",
        "  \"\"\"\n",
        "  artist_list => Lista que contiene a todos los cantantes preprocesados con la función define_artists\n",
        "  lyrics_list => Lista que contiene los lyrics preprocesados con la función lyrics_cleaning\n",
        "  Outputs: songs_df - Dataframe que corresponde a cada artista con una letra\n",
        "           artist_corpus - Corpus por artista\n",
        "           corpus - Corpus total para entrenar la red neuronal\n",
        "  Esta función crea los outputs para EDA, modelling y training directamente.\n",
        "  \"\"\"\n",
        "\n",
        "  songs_df = pd.DataFrame({'artist':artist_list, 'lyric': lyrics_list}).drop_duplicates()\n",
        "\n",
        "  artist_corpus = songs_df.groupby(['artist'])['lyric'].apply(' '.join).reset_index()\n",
        "\n",
        "  corpus = \" \".join(lyrics_list)\n",
        "\n",
        "  return songs_df, artist_corpus, corpus\n",
        "\n"
      ],
      "execution_count": null,
      "outputs": []
    },
    {
      "cell_type": "code",
      "metadata": {
        "id": "uAyD09ZWgCN9"
      },
      "source": [
        "def data_export(songs_dataframe, path_songs_dataframe, artist_corpus, path_artist_corpus, complete_corpus, path_complete_corpus):\n",
        "  \"\"\"\n",
        "  songs_dataframe=> Dataframe obtenido por el primer argumento de data_formatting\n",
        "  path_songs_dataframe=> Path relativo para guardar el dataframe a csv\n",
        "  artist_corpus=> Dataframe obtenido por el segundo argumento de data_formatting\n",
        "  path_artist_corpus=> Path relativo para guardar el dataframe a csv\n",
        "  complete_corpus=> texto obtenido por el tercer argumento de data_formatting\n",
        "  path_complete_corpus=> Path relativo para guardar el string a txt\n",
        "  Esta función exporta todo lo obtenido en este archivo para hacer el training, modelling y EDA\n",
        "  \"\"\"\n",
        "  songs_dataframe.to_csv(path_songs_dataframe)\n",
        "  artist_corpus.to_csv(path_artist_corpus)\n",
        "  with open(path_complete_corpus, \"w\") as f:\n",
        "    writer = f.write(complete_corpus)"
      ],
      "execution_count": null,
      "outputs": []
    },
    {
      "cell_type": "code",
      "metadata": {
        "id": "U2p9Ffw_cJUv"
      },
      "source": [
        "data = open_file(r\"lyrics.txt\")"
      ],
      "execution_count": null,
      "outputs": []
    },
    {
      "cell_type": "code",
      "metadata": {
        "id": "B6WUNLl-cL0n"
      },
      "source": [
        "artists = define_artists(data)"
      ],
      "execution_count": null,
      "outputs": []
    },
    {
      "cell_type": "code",
      "metadata": {
        "id": "yTyibJr6KjsD"
      },
      "source": [
        "lyrics_clean = lyrics_cleaning(data)"
      ],
      "execution_count": null,
      "outputs": []
    },
    {
      "cell_type": "code",
      "metadata": {
        "id": "0jz9iiIwU9mv"
      },
      "source": [
        "songs_df, artist_corpus, corpus = data_formatting(artists, lyrics_clean)"
      ],
      "execution_count": null,
      "outputs": []
    },
    {
      "cell_type": "code",
      "metadata": {
        "id": "XDmT8RLbi4px"
      },
      "source": [
        "data_export(songs_df, 'songs_df.csv', artist_corpus, 'artist_corpus.csv', corpus, 'corpus.txt')"
      ],
      "execution_count": null,
      "outputs": []
    }
  ]
}